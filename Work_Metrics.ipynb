{
 "cells": [
  {
   "cell_type": "code",
   "execution_count": 1,
   "id": "999264ce",
   "metadata": {},
   "outputs": [],
   "source": [
    "import pandas as pd\n",
    "from datetime import datetime"
   ]
  },
  {
   "cell_type": "markdown",
   "id": "24c8d367",
   "metadata": {},
   "source": [
    "#### Set target date of report export"
   ]
  },
  {
   "cell_type": "code",
   "execution_count": 10,
   "id": "9c90163e",
   "metadata": {
    "scrolled": true
   },
   "outputs": [
    {
     "name": "stdout",
     "output_type": "stream",
     "text": [
      "Report Date: 2022-01-14 \n",
      "\n"
     ]
    }
   ],
   "source": [
    "#Set target date of report exports\n",
    "reportDate= datetime(2022, 1, 14)\n",
    "print('Report Date:', reportDate.date(), '\\n')"
   ]
  },
  {
   "cell_type": "markdown",
   "id": "c80cb1df",
   "metadata": {},
   "source": [
    "#### Calculate metrics from Backlog report"
   ]
  },
  {
   "cell_type": "code",
   "execution_count": 11,
   "id": "63274ef9",
   "metadata": {},
   "outputs": [],
   "source": [
    "#Import necessary reports\n",
    "fusion= pd.read_csv('today_report.csv')\n",
    "fcrClose= pd.read_csv('Tier 1 Closed- Last 7 Days-2022-01-14.csv')\n",
    "fcrEsc= pd.read_csv('Tier 1 Escalations- Last 7 days-2022-01-14.csv')\n",
    "\n",
    "#Calculate total backlog as a sum of Functional Backlog and Development backlog\n",
    "devBacklog= len(fusion[fusion['Department'] == 'CF Development'])\n",
    "funcBacklog= len(fusion['Case Number'] - devBacklog)\n",
    "totalBacklog= funcBacklog + devBacklog\n",
    "\n",
    "#Calculate aging metrics as an average of 'Age' and 'Last Modified'\n",
    "avgAge = fusion['Age (Days)'].mean()\n",
    "avgAgeUpdate = (reportDate - pd.to_datetime(fusion['Case Date/Time Last Modified'])).mean()"
   ]
  },
  {
   "cell_type": "markdown",
   "id": "45b0fccd",
   "metadata": {},
   "source": [
    "#### Calculate Tier 1 FCR from 'Last 7 Days' reports"
   ]
  },
  {
   "cell_type": "code",
   "execution_count": 4,
   "id": "0fb4d09b",
   "metadata": {},
   "outputs": [
    {
     "name": "stdout",
     "output_type": "stream",
     "text": [
      "Number of Chats:734\n"
     ]
    }
   ],
   "source": [
    "#Subset table by desired agents\n",
    "tier1Closed= sum(\n",
    "    fcrClose['Edited By'].isin(['Lona Balcar', 'Amanda Massingill','Juan Pineda',\n",
    "                                'Dennis Key','Sara Galindo','Derek Powell']))\n",
    "\n",
    "#Subset table by desired agents\n",
    "tier1Esc= sum(\n",
    "    fcrEsc['Edited By'].isin(['Lona Balcar', 'Amanda Massingill','Juan Pineda','Dennis Key',\n",
    "                              'Sara Galindo','Derek Powell'])\n",
    "    & ~fcrEsc['New Value'].isin(['Tier 1 - County Fusion','Tier 1.5 - County Fusion']))\n",
    "\n",
    "#Take user input on number of Chats from external source\n",
    "chats = int(input(\"Number of Chats:\"))\n",
    "\n",
    "#Calculate FCR% as a ratio of tier1Esc to the overall\n",
    "tier1FCR = tier1Esc / (tier1Closed + tier1Esc + chats)"
   ]
  },
  {
   "cell_type": "markdown",
   "id": "ef761075",
   "metadata": {},
   "source": [
    "## Print Fusion Metrics"
   ]
  },
  {
   "cell_type": "code",
   "execution_count": 13,
   "id": "5e66bff8",
   "metadata": {},
   "outputs": [
    {
     "name": "stdout",
     "output_type": "stream",
     "text": [
      "Total Backlog: 771\n",
      "Functional Fusion Backlog: 698\n",
      "Development Backlog: 73\n",
      "Average Age: 176\n",
      "Average Age Since Last Update: 49 \n",
      "\n",
      "Tier 1 Closed- Past 7 Days: 103\n",
      "Tier 1 Escalated- Past 7 Days: 81\n",
      "\n",
      "Tier 1 FCR% (w/ Chats): 0.91\n",
      "Tier 1 FCR% (w/o Chats): 0.56\n"
     ]
    }
   ],
   "source": [
    "#Print metrics\n",
    "print('Total Backlog:', totalBacklog)\n",
    "print('Functional Fusion Backlog:', funcBacklog)\n",
    "print('Development Backlog:', devBacklog)\n",
    "print('Average Age:', int(avgAge))\n",
    "print('Average Age Since Last Update:', avgAgeUpdate.days, '\\n')\n",
    "\n",
    "#Print FCR metrics\n",
    "print('Tier 1 Closed- Past 7 Days:', tier1Closed)\n",
    "print('Tier 1 Escalated- Past 7 Days:', tier1Esc)\n",
    "\n",
    "print('\\nTier 1 FCR% (w/ Chats):', round(1 - tier1Esc / (tier1Esc + tier1Closed + chats),2))\n",
    "print('Tier 1 FCR% (w/o Chats):', round(1- tier1Esc / (tier1Esc + tier1Closed),2))"
   ]
  },
  {
   "cell_type": "markdown",
   "id": "d1a9eb7a",
   "metadata": {},
   "source": [
    "#### Calculate Vanguard Metrics from VG Backlog Report"
   ]
  },
  {
   "cell_type": "code",
   "execution_count": 6,
   "id": "1c13a3ac",
   "metadata": {},
   "outputs": [],
   "source": [
    "#Import needed backlog report\n",
    "vgReport= pd.read_csv('VG Backlog-2022-01-14.csv')\n",
    "\n",
    "#Count total cases as a sum of cases where TP ID ~null and cases where TP ID isany\n",
    "devBacklog= sum(vgReport['TP ID'].value_counts())\n",
    "funcBacklog= len(vgReport['Case Number']) - devBacklog\n",
    "totalBacklog= funcBacklog + devBacklog\n",
    "\n",
    "#subset cases without TP ID and take averages for age\n",
    "avgAge = vgReport[vgReport['TP ID'].isna()]['Age'].mean()\n",
    "avgAgeUpdate = vgReport[vgReport['TP ID'].isna()]['Number of Days Since Last Activity'].mean()\n",
    "\n",
    "#subset cases created in the last week with a TP ID for later calculation of FCR using Chats#\n",
    "esctoTP= len(vgReport[(pd.to_datetime(vgReport['Date/Time Opened']) > '2022-01-06') &\n",
    "                 ~vgReport['TP ID'].isna()])"
   ]
  },
  {
   "cell_type": "markdown",
   "id": "dee7b89d",
   "metadata": {},
   "source": [
    "#### Calculate Chat metrics from Slack raw data"
   ]
  },
  {
   "cell_type": "code",
   "execution_count": 7,
   "id": "0b66a2d9",
   "metadata": {},
   "outputs": [],
   "source": [
    "#Import Chats table from local source, 'rawSheet'\n",
    "rawSheet = pd.read_csv('Support Data From Slack - 2022 Data.csv')\n",
    "\n",
    "#Subset raw data to only chats received during the defined timeline, 'lastWeekChats'\n",
    "lastWeekChats= rawSheet[(pd.to_datetime(rawSheet['Date Posted']) > '2022-01-06') & \n",
    "                      (pd.to_datetime(rawSheet['Date Posted']) < '2022-01-14')]\n",
    "\n",
    "#Calculate average 'Time to Respond' (ASA) for Chats, 'chatsASA'\n",
    "chatsASA= pd.to_datetime(lastWeekChats['Time to Respond'], format='%H:%M:%S').mean()\n",
    "\n",
    "#Calculate first-chat resolution (FCR) as a ratio of chats:esctoTP \n",
    "vgFCR= esctoTP / len(lastWeekChats['Channel'])"
   ]
  },
  {
   "cell_type": "markdown",
   "id": "cab4ab3f",
   "metadata": {},
   "source": [
    "## Print Vanguard Metrics"
   ]
  },
  {
   "cell_type": "code",
   "execution_count": 8,
   "id": "a60e54c3",
   "metadata": {},
   "outputs": [
    {
     "name": "stdout",
     "output_type": "stream",
     "text": [
      "Total Backlog: 114\n",
      "Functional Backlog: 4\n",
      "Development Backlog: 110\n",
      "Average Age: 18\n",
      "Average Age Since Last Update: 5\n",
      "VG FCR: 0.95 %\n",
      "Chats ASA: 2 minutes 26 seconds\n"
     ]
    }
   ],
   "source": [
    "print('Total Backlog:', totalBacklog)\n",
    "print('Functional Backlog:', funcBacklog)\n",
    "print('Development Backlog:', devBacklog)\n",
    "print('Average Age:', round(avgAge))\n",
    "print('Average Age Since Last Update:', round(avgAgeUpdate))\n",
    "print('VG FCR:', round(1- vgFCR, 2),'%')\n",
    "print('Chats ASA:', chatsASA.minute, 'minutes', chatsASA.second, 'seconds')"
   ]
  }
 ],
 "metadata": {
  "kernelspec": {
   "display_name": "Python 3",
   "language": "python",
   "name": "python3"
  },
  "language_info": {
   "codemirror_mode": {
    "name": "ipython",
    "version": 3
   },
   "file_extension": ".py",
   "mimetype": "text/x-python",
   "name": "python",
   "nbconvert_exporter": "python",
   "pygments_lexer": "ipython3",
   "version": "3.8.8"
  }
 },
 "nbformat": 4,
 "nbformat_minor": 5
}
